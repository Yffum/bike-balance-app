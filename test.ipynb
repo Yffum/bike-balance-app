{
 "cells": [
  {
   "cell_type": "code",
   "execution_count": null,
   "id": "3ff19923",
   "metadata": {},
   "outputs": [
    {
     "name": "stdout",
     "output_type": "stream",
     "text": [
      "(40.71993, -73.99417) -> (0, 0)\n",
      "(40.6902, -74.03786) -> (-1775, 1594)\n",
      "(40.74966, -73.95048) -> (1775, -1594)\n",
      "lat_scale: 59704.00269088322\n",
      "lon_scale: -36484.32135500281\n",
      "bottom left: (-1775.0, 1594.0)\n"
     ]
    },
    {
     "data": {
      "text/plain": [
       "(0.0, -0.0)"
      ]
     },
     "execution_count": 20,
     "metadata": {},
     "output_type": "execute_result"
    }
   ],
   "source": [
    "bottom_left_WGS = (40.6902 , -74.03786)\n",
    "bottom_left_pos = (-1775, 1594)\n",
    "top_right_WGS = (40.74966, -73.95048)\n",
    "top_right_pos = (1775, -1594)\n",
    "\n",
    "lat_diff_WGS = top_right_WGS[0] - bottom_left_WGS[0]\n",
    "lon_diff_WGS = top_right_WGS[1] - bottom_left_WGS[1]\n",
    "\n",
    "center_WGS = (bottom_left_WGS[0] + lat_diff_WGS/2, bottom_left_WGS[1] + lon_diff_WGS/2)\n",
    "\n",
    "lat_diff_pos = top_right_pos[0] - bottom_left_pos[0]\n",
    "lon_diff_pos = top_right_pos[1] - bottom_left_pos[1]\n",
    "\n",
    "lat_scale = lat_diff_pos / lat_diff_WGS\n",
    "lon_scale = lon_diff_pos / lon_diff_WGS\n",
    "\n",
    "def WGS_to_pos(coord):\n",
    "    lat, lon = coord\n",
    "    pos_x = lat_scale * (lat - center_WGS[0])\n",
    "    pos_y = lon_scale * (lon - center_WGS[1])\n",
    "    return (pos_x, pos_y)\n",
    "\n",
    "WGS_to_pos(center_WGS)"
   ]
  },
  {
   "cell_type": "code",
   "execution_count": 1,
   "id": "3f77184f",
   "metadata": {},
   "outputs": [
    {
     "ename": "TypeError",
     "evalue": "unsupported operand type(s) for -: 'tuple' and 'tuple'",
     "output_type": "error",
     "traceback": [
      "\u001b[31m---------------------------------------------------------------------------\u001b[39m",
      "\u001b[31mTypeError\u001b[39m                                 Traceback (most recent call last)",
      "\u001b[36mCell\u001b[39m\u001b[36m \u001b[39m\u001b[32mIn[1]\u001b[39m\u001b[32m, line 3\u001b[39m\n\u001b[32m      1\u001b[39m a = (\u001b[32m2\u001b[39m,\u001b[32m2\u001b[39m)\n\u001b[32m      2\u001b[39m b = (\u001b[32m5\u001b[39m,\u001b[32m5\u001b[39m)\n\u001b[32m----> \u001b[39m\u001b[32m3\u001b[39m c = \u001b[43mb\u001b[49m\u001b[43m \u001b[49m\u001b[43m-\u001b[49m\u001b[43m \u001b[49m\u001b[43ma\u001b[49m\n",
      "\u001b[31mTypeError\u001b[39m: unsupported operand type(s) for -: 'tuple' and 'tuple'"
     ]
    }
   ],
   "source": [
    "a = (2,2)\n",
    "b = (5,5)\n",
    "c = b - a"
   ]
  }
 ],
 "metadata": {
  "kernelspec": {
   "display_name": "base",
   "language": "python",
   "name": "python3"
  },
  "language_info": {
   "codemirror_mode": {
    "name": "ipython",
    "version": 3
   },
   "file_extension": ".py",
   "mimetype": "text/x-python",
   "name": "python",
   "nbconvert_exporter": "python",
   "pygments_lexer": "ipython3",
   "version": "3.12.7"
  }
 },
 "nbformat": 4,
 "nbformat_minor": 5
}
