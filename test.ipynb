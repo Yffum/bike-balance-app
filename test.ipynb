{
 "cells": [
  {
   "cell_type": "code",
   "execution_count": null,
   "id": "3ff19923",
   "metadata": {},
   "outputs": [
    {
     "name": "stdout",
     "output_type": "stream",
     "text": [
      "(40.71993, -73.99417) -> (0, 0)\n",
      "(40.6902, -74.03786) -> (-1775, 1594)\n",
      "(40.74966, -73.95048) -> (1775, -1594)\n",
      "lat_scale: 59704.00269088322\n",
      "lon_scale: -36484.32135500281\n",
      "bottom left: (-1775.0, 1594.0)\n"
     ]
    },
    {
     "data": {
      "text/plain": [
       "(0.0, -0.0)"
      ]
     },
     "execution_count": 20,
     "metadata": {},
     "output_type": "execute_result"
    }
   ],
   "source": [
    "bottom_left_WGS = (40.6902 , -74.03786)\n",
    "bottom_left_pos = (-1775, 1594)\n",
    "top_right_WGS = (40.74966, -73.95048)\n",
    "top_right_pos = (1775, -1594)\n",
    "\n",
    "lat_diff_WGS = top_right_WGS[0] - bottom_left_WGS[0]\n",
    "lon_diff_WGS = top_right_WGS[1] - bottom_left_WGS[1]\n",
    "\n",
    "center_WGS = (bottom_left_WGS[0] + lat_diff_WGS/2, bottom_left_WGS[1] + lon_diff_WGS/2)\n",
    "\n",
    "lat_diff_pos = top_right_pos[0] - bottom_left_pos[0]\n",
    "lon_diff_pos = top_right_pos[1] - bottom_left_pos[1]\n",
    "\n",
    "lat_scale = lat_diff_pos / lat_diff_WGS\n",
    "lon_scale = lon_diff_pos / lon_diff_WGS\n",
    "\n",
    "def WGS_to_pos(coord):\n",
    "    lat, lon = coord\n",
    "    pos_x = lat_scale * (lat - center_WGS[0])\n",
    "    pos_y = lon_scale * (lon - center_WGS[1])\n",
    "    return (pos_x, pos_y)\n",
    "\n",
    "WGS_to_pos(center_WGS)"
   ]
  },
  {
   "cell_type": "code",
   "execution_count": 4,
   "id": "3f77184f",
   "metadata": {},
   "outputs": [
    {
     "name": "stdout",
     "output_type": "stream",
     "text": [
      "[1, 2, 3]\n"
     ]
    }
   ],
   "source": [
    "a = (2,2)\n",
    "b = (5,5)\n",
    "c = [1, 2, 3]\n",
    "n= 12\n",
    "\n",
    "\n",
    "if c[:n]:\n",
    "    print(c[:n])"
   ]
  },
  {
   "cell_type": "code",
   "execution_count": 13,
   "id": "0aa07a73",
   "metadata": {},
   "outputs": [
    {
     "name": "stdout",
     "output_type": "stream",
     "text": [
      "6\n",
      "4\n",
      "False\n"
     ]
    }
   ],
   "source": [
    "import bisect\n",
    "\n",
    "test = [1, 2, 2, 3, 4, 4, 4, 6, 6, 6, 6, 7, 10]\n",
    "\n",
    "i = bisect.bisect_right(test, 4) - 1\n",
    "\n",
    "print(i)\n",
    "print(test[i])\n",
    "\n",
    "test = (\n",
    "    False and True\n",
    ")\n",
    "print(test)"
   ]
  },
  {
   "cell_type": "code",
   "execution_count": 3,
   "id": "5fc15be5",
   "metadata": {},
   "outputs": [
    {
     "name": "stdout",
     "output_type": "stream",
     "text": [
      "\n",
      "1\n",
      "\n",
      "2foo\n",
      "3\n",
      "\n"
     ]
    }
   ],
   "source": [
    "b = 'foo'\n",
    "test = f\"\"\"\n",
    "1\\n\n",
    "2{b}\n",
    "3\n",
    "\"\"\"\n",
    "print(test)"
   ]
  },
  {
   "cell_type": "code",
   "execution_count": 5,
   "id": "aa6c8ab9",
   "metadata": {},
   "outputs": [
    {
     "name": "stdout",
     "output_type": "stream",
     "text": [
      "external\\results\\250424_1638_s3158495187.json\n",
      "Single Run Simulation\n",
      "  Static Seed: 3158495187\n",
      "  Real runtime: 0.489457 seconds\n",
      "Parameters\n",
      "  Agent Mode: Smart\n",
      "  Start Station: 99\n",
      "  End Station: 110\n",
      "  Excursion Time: 4.0 hours\n",
      "  Warmup Time: 0.0 hours\n",
      "  Empty Station Bias: 0.0\n",
      "  Full Station Bias: 0.0\n",
      "Results\n",
      "  Total Reward: 18.11\n",
      "  Total Bikes Rented: 32\n",
      "  Total Time biking: 1.295222222222222\n",
      "  Total Time walking: 2.6763888888888894\n",
      "  Total Time waiting: 0\n",
      "  Estimated number of failed rentals/returns over the next 2 hours: 105.84778773489177\n",
      "Agent Actions \n",
      "16:00 > Bike to 80 (8.5 min)\n",
      "\tReturn Reward: + 0.17\n",
      "16:08 > Walk to 90 (4.2 min)\n",
      "16:12 > Bike to 80 (1.7 min)\n",
      "\tReturn Reward: + 0.17\n",
      "16:14 > Walk to 90 (4.2 min)\n",
      "16:18 > Bike to 80 (1.7 min)\n",
      "\tReturn Reward: + 0.34\n",
      "16:20 > Walk to 90 (4.2 min)\n",
      "16:24 > Bike to 80 (1.7 min)\n",
      "\tReturn Reward: + 0.34\n",
      "16:26 > Walk to 90 (4.2 min)\n",
      "16:30 > Bike to 80 (1.7 min)\n",
      "\tReturn Reward: + 0.37\n",
      "16:32 > Walk to 37 (3.2 min)\n",
      "16:35 > Bike to 80 (1.3 min)\n",
      "\tReturn Reward: + 0.37\n",
      "16:36 > Walk to 37 (3.2 min)\n",
      "16:40 > Bike to 80 (1.3 min)\n",
      "\tReturn Reward: + 0.37\n",
      "16:41 > Walk to 37 (3.2 min)\n",
      "16:44 > Bike to 80 (1.3 min)\n",
      "\tReturn Reward: + 0.37\n",
      "16:46 > Walk to 90 (4.2 min)\n",
      "16:50 > Bike to 80 (1.7 min)\n",
      "\tReturn Reward: + 0.37\n",
      "16:51 > Walk to 90 (4.2 min)\n",
      "16:56 > Bike to 80 (1.7 min)\n",
      "\tReturn Reward: + 0.37\n",
      "16:57 > Walk to 90 (4.2 min)\n",
      "17:02 > Bike to 80 (1.7 min)\n",
      "\tReturn Reward: + 0.37\n",
      "17:03 > Walk to 90 (4.2 min)\n",
      "17:07 > Bike to 80 (1.7 min)\n",
      "\tReturn Reward: + 0.37\n",
      "17:09 > Walk to 90 (4.2 min)\n",
      "17:13 > Bike to 80 (1.7 min)\n",
      "\tReturn Reward: + 0.37\n",
      "17:15 > Walk to 37 (3.2 min)\n",
      "17:18 > Bike to 80 (1.3 min)\n",
      "\tReturn Reward: + 0.37\n",
      "17:20 > Walk to 90 (4.2 min)\n",
      "17:24 > Bike to 80 (1.7 min)\n",
      "\tReturn Reward: + 0.37\n",
      "17:26 > Walk to 90 (4.2 min)\n",
      "17:30 > Bike to 80 (1.7 min)\n",
      "\tReturn Reward: + 0.37\n",
      "17:32 > Walk to 90 (4.2 min)\n",
      "17:36 > Bike to 80 (1.7 min)\n",
      "\tReturn Reward: + 0.37\n",
      "17:38 > Walk to 37 (3.2 min)\n",
      "17:41 > Bike to 80 (1.3 min)\n",
      "\tReturn Reward: + 0.37\n",
      "17:42 > Walk to 90 (4.2 min)\n",
      "17:46 > Bike to 11 (2.9 min)\n",
      "\tReturn Reward: + 0.4\n",
      "17:49 > Walk to 72 (7.7 min)\n",
      "17:57 > Bike to 11 (3.2 min)\n",
      "\tRental Reward: + 0.69\n",
      "\tReturn Reward: + 0.4\n",
      "18:00 > Walk to 72 (7.7 min)\n",
      "18:08 > Bike to 11 (3.2 min)\n",
      "\tRental Reward: + 0.6\n",
      "\tReturn Reward: + 0.28\n",
      "18:11 > Walk to 72 (7.7 min)\n",
      "18:19 > Bike to 11 (3.2 min)\n",
      "\tRental Reward: + 0.31\n",
      "\tReturn Reward: + 0.4\n",
      "18:22 > Walk to 36 (3.3 min)\n",
      "18:25 > Bike to 11 (1.7 min)\n",
      "\tReturn Reward: + 0.4\n",
      "18:27 > Walk to 36 (3.3 min)\n",
      "18:30 > Bike to 113 (6.2 min)\n",
      "\tReturn Reward: + 0.36\n",
      "18:37 > Walk to 57 (6.6 min)\n",
      "18:43 > Bike to 113 (2.6 min)\n",
      "\tRental Reward: + 0.58\n",
      "\tReturn Reward: + 0.36\n",
      "18:46 > Walk to 57 (6.6 min)\n",
      "18:52 > Bike to 113 (2.6 min)\n",
      "\tRental Reward: + 0.8\n",
      "\tReturn Reward: + 0.36\n",
      "18:55 > Walk to 57 (6.6 min)\n",
      "19:02 > Bike to 113 (2.6 min)\n",
      "\tRental Reward: + 0.84\n",
      "\tReturn Reward: + 0.36\n",
      "19:04 > Walk to 57 (6.6 min)\n",
      "19:11 > Bike to 113 (2.6 min)\n",
      "\tRental Reward: + 0.84\n",
      "\tReturn Reward: + 0.36\n",
      "19:13 > Walk to 57 (6.6 min)\n",
      "19:20 > Bike to 113 (2.6 min)\n",
      "\tRental Reward: + 0.74\n",
      "\tReturn Reward: + 0.29\n",
      "19:23 > Walk to 57 (6.6 min)\n",
      "19:29 > Bike to 113 (2.6 min)\n",
      "\tRental Reward: + 0.74\n",
      "\tReturn Reward: + 0.29\n",
      "19:32 > Walk to 57 (6.6 min)\n",
      "19:39 > Bike to 113 (2.6 min)\n",
      "\tRental Reward: + 0.49\n",
      "\tReturn Reward: + 0.36\n",
      "19:41 > Walk to 57 (6.6 min)\n",
      "19:48 > Bike to 39 (3.1 min)\n",
      "\tRental Reward: + 0.32\n",
      "\tReturn Reward: + 0.34\n",
      "19:51 > Walk to 110 (6.9 min)\n"
     ]
    }
   ],
   "source": [
    "report = \"external\\\\results\\\\250424_1638_s3158495187.json\\nSingle Run Simulation\\n  Static Seed: 3158495187\\n  Real runtime: 0.489457 seconds\\nParameters\\n  Agent Mode: Smart\\n  Start Station: 99\\n  End Station: 110\\n  Excursion Time: 4.0 hours\\n  Warmup Time: 0.0 hours\\n  Empty Station Bias: 0.0\\n  Full Station Bias: 0.0\\nResults\\n  Total Reward: 18.11\\n  Total Bikes Rented: 32\\n  Total Time biking: 1.295222222222222\\n  Total Time walking: 2.6763888888888894\\n  Total Time waiting: 0\\n  Estimated number of failed rentals/returns over the next 2 hours: 105.84778773489177\\nAgent Actions \\n16:00 > Bike to 80 (8.5 min)\\n\\tReturn Reward: + 0.17\\n16:08 > Walk to 90 (4.2 min)\\n16:12 > Bike to 80 (1.7 min)\\n\\tReturn Reward: + 0.17\\n16:14 > Walk to 90 (4.2 min)\\n16:18 > Bike to 80 (1.7 min)\\n\\tReturn Reward: + 0.34\\n16:20 > Walk to 90 (4.2 min)\\n16:24 > Bike to 80 (1.7 min)\\n\\tReturn Reward: + 0.34\\n16:26 > Walk to 90 (4.2 min)\\n16:30 > Bike to 80 (1.7 min)\\n\\tReturn Reward: + 0.37\\n16:32 > Walk to 37 (3.2 min)\\n16:35 > Bike to 80 (1.3 min)\\n\\tReturn Reward: + 0.37\\n16:36 > Walk to 37 (3.2 min)\\n16:40 > Bike to 80 (1.3 min)\\n\\tReturn Reward: + 0.37\\n16:41 > Walk to 37 (3.2 min)\\n16:44 > Bike to 80 (1.3 min)\\n\\tReturn Reward: + 0.37\\n16:46 > Walk to 90 (4.2 min)\\n16:50 > Bike to 80 (1.7 min)\\n\\tReturn Reward: + 0.37\\n16:51 > Walk to 90 (4.2 min)\\n16:56 > Bike to 80 (1.7 min)\\n\\tReturn Reward: + 0.37\\n16:57 > Walk to 90 (4.2 min)\\n17:02 > Bike to 80 (1.7 min)\\n\\tReturn Reward: + 0.37\\n17:03 > Walk to 90 (4.2 min)\\n17:07 > Bike to 80 (1.7 min)\\n\\tReturn Reward: + 0.37\\n17:09 > Walk to 90 (4.2 min)\\n17:13 > Bike to 80 (1.7 min)\\n\\tReturn Reward: + 0.37\\n17:15 > Walk to 37 (3.2 min)\\n17:18 > Bike to 80 (1.3 min)\\n\\tReturn Reward: + 0.37\\n17:20 > Walk to 90 (4.2 min)\\n17:24 > Bike to 80 (1.7 min)\\n\\tReturn Reward: + 0.37\\n17:26 > Walk to 90 (4.2 min)\\n17:30 > Bike to 80 (1.7 min)\\n\\tReturn Reward: + 0.37\\n17:32 > Walk to 90 (4.2 min)\\n17:36 > Bike to 80 (1.7 min)\\n\\tReturn Reward: + 0.37\\n17:38 > Walk to 37 (3.2 min)\\n17:41 > Bike to 80 (1.3 min)\\n\\tReturn Reward: + 0.37\\n17:42 > Walk to 90 (4.2 min)\\n17:46 > Bike to 11 (2.9 min)\\n\\tReturn Reward: + 0.4\\n17:49 > Walk to 72 (7.7 min)\\n17:57 > Bike to 11 (3.2 min)\\n\\tRental Reward: + 0.69\\n\\tReturn Reward: + 0.4\\n18:00 > Walk to 72 (7.7 min)\\n18:08 > Bike to 11 (3.2 min)\\n\\tRental Reward: + 0.6\\n\\tReturn Reward: + 0.28\\n18:11 > Walk to 72 (7.7 min)\\n18:19 > Bike to 11 (3.2 min)\\n\\tRental Reward: + 0.31\\n\\tReturn Reward: + 0.4\\n18:22 > Walk to 36 (3.3 min)\\n18:25 > Bike to 11 (1.7 min)\\n\\tReturn Reward: + 0.4\\n18:27 > Walk to 36 (3.3 min)\\n18:30 > Bike to 113 (6.2 min)\\n\\tReturn Reward: + 0.36\\n18:37 > Walk to 57 (6.6 min)\\n18:43 > Bike to 113 (2.6 min)\\n\\tRental Reward: + 0.58\\n\\tReturn Reward: + 0.36\\n18:46 > Walk to 57 (6.6 min)\\n18:52 > Bike to 113 (2.6 min)\\n\\tRental Reward: + 0.8\\n\\tReturn Reward: + 0.36\\n18:55 > Walk to 57 (6.6 min)\\n19:02 > Bike to 113 (2.6 min)\\n\\tRental Reward: + 0.84\\n\\tReturn Reward: + 0.36\\n19:04 > Walk to 57 (6.6 min)\\n19:11 > Bike to 113 (2.6 min)\\n\\tRental Reward: + 0.84\\n\\tReturn Reward: + 0.36\\n19:13 > Walk to 57 (6.6 min)\\n19:20 > Bike to 113 (2.6 min)\\n\\tRental Reward: + 0.74\\n\\tReturn Reward: + 0.29\\n19:23 > Walk to 57 (6.6 min)\\n19:29 > Bike to 113 (2.6 min)\\n\\tRental Reward: + 0.74\\n\\tReturn Reward: + 0.29\\n19:32 > Walk to 57 (6.6 min)\\n19:39 > Bike to 113 (2.6 min)\\n\\tRental Reward: + 0.49\\n\\tReturn Reward: + 0.36\\n19:41 > Walk to 57 (6.6 min)\\n19:48 > Bike to 39 (3.1 min)\\n\\tRental Reward: + 0.32\\n\\tReturn Reward: + 0.34\\n19:51 > Walk to 110 (6.9 min)\"\n",
    "print(report)"
   ]
  }
 ],
 "metadata": {
  "kernelspec": {
   "display_name": "base",
   "language": "python",
   "name": "python3"
  },
  "language_info": {
   "codemirror_mode": {
    "name": "ipython",
    "version": 3
   },
   "file_extension": ".py",
   "mimetype": "text/x-python",
   "name": "python",
   "nbconvert_exporter": "python",
   "pygments_lexer": "ipython3",
   "version": "3.12.7"
  }
 },
 "nbformat": 4,
 "nbformat_minor": 5
}
